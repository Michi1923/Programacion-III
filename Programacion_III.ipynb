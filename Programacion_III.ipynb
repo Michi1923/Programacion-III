{
  "nbformat": 4,
  "nbformat_minor": 0,
  "metadata": {
    "colab": {
      "name": "Programacion III",
      "provenance": [],
      "collapsed_sections": [],
      "toc_visible": true,
      "include_colab_link": true
    },
    "kernelspec": {
      "display_name": "Python 3",
      "name": "python3"
    }
  },
  "cells": [
    {
      "cell_type": "markdown",
      "metadata": {
        "id": "view-in-github",
        "colab_type": "text"
      },
      "source": [
        "<a href=\"https://colab.research.google.com/github/Michi1923/Programacion-III/blob/Ejercicios/Programacion_III.ipynb\" target=\"_parent\"><img src=\"https://colab.research.google.com/assets/colab-badge.svg\" alt=\"Open In Colab\"/></a>"
      ]
    },
    {
      "cell_type": "markdown",
      "metadata": {
        "id": "yncFEMvPQaIG"
      },
      "source": [
        "# Ejercicios de Programacion III"
      ]
    },
    {
      "cell_type": "markdown",
      "metadata": {
        "id": "x9jY83ozQ3VI"
      },
      "source": [
        "# Convertir celsius a fahrenheit"
      ]
    },
    {
      "cell_type": "code",
      "metadata": {
        "colab": {
          "base_uri": "https://localhost:8080/"
        },
        "id": "MD7RNQB040Bh",
        "outputId": "38dd0338-a73b-4278-dafc-3fec754e955a"
      },
      "source": [
        "celsius = int(input('Ingrese la temperatura en grados Celsius: '))\n",
        "fahrenheit = 9.0/5.0 * celsius +32\n",
        "print('{} grados Celsius son {} grados Fahrenheit'.format(fahrenheit, celsius))"
      ],
      "execution_count": null,
      "outputs": [
        {
          "output_type": "stream",
          "text": [
            "Ingrese la temperatura en grados Celsius: 78\n",
            "172.4 grados Celsius son 78 grados Fahrenheit\n"
          ],
          "name": "stdout"
        }
      ]
    },
    {
      "cell_type": "markdown",
      "metadata": {
        "id": "09Cl0Tbhkddj"
      },
      "source": [
        "# Calcular la Edad de una Persona\n"
      ]
    },
    {
      "cell_type": "code",
      "metadata": {
        "id": "2eMPWGOAkmeO",
        "colab": {
          "base_uri": "https://localhost:8080/"
        },
        "outputId": "08029d56-aee6-4e9d-ffb7-c56b82e59e2d"
      },
      "source": [
        "año_actual = 2021;\n",
        "mes_actual = 8;\n",
        "dia_actual = 29;\n",
        "\n",
        "año_nacimiento = int(input(\"ingrese su año de nacimiento: \"));\n",
        "mes_nacimiento = int(input(\"ingrese su mes de nacimiento: \"));\n",
        "dia_nacimiento = int(input(\"ingrese el dia de nacimiento: \"));\n",
        "\n",
        "if(mes_nacimiento>=mes_actual):\n",
        "  if(dia_nacimiento>dia_actual):\n",
        "    edad = año_actual - año_nacimiento - 1\n",
        "  else:\n",
        "      edad = año_actual - año_nacimiento\n",
        "else:\n",
        "  edad = año_actual - año_nacimiento\n",
        "print(\"La edad es: \", edad)"
      ],
      "execution_count": null,
      "outputs": [
        {
          "output_type": "stream",
          "text": [
            "ingrese su año de nacimiento: 2000\n",
            "ingrese su mes de nacimiento: 9\n",
            "ingrese el dia de nacimiento: 19\n",
            "La edad es:  21\n"
          ],
          "name": "stdout"
        }
      ]
    },
    {
      "cell_type": "markdown",
      "metadata": {
        "id": "gS3Ai0nTgKUn"
      },
      "source": [
        "# Obtener la nota final de ciclo"
      ]
    },
    {
      "cell_type": "code",
      "metadata": {
        "colab": {
          "base_uri": "https://localhost:8080/"
        },
        "id": "XrwFwqfvhVR-",
        "outputId": "1dd4d349-323a-4bcd-dc14-30537a049aa1"
      },
      "source": [
        "print(\"Computo 1:\")\n",
        "n1c1 = float(input(\"Ingrese la nota del laboratorio 1: \"))\n",
        "n2c1 = float(input(\"Ingrese la nota del laboratorio 2: \"))\n",
        "pc1 = float(input(\"Ingrese la nota del parcial: \"))\n",
        "\n",
        "resultadoc1 = n1c1*0.30 + n2c1*0.30 + pc1*0.40\n",
        "print(\"Su nota es de: \", resultadoc1)\n",
        "\n",
        "print(\"\")\n",
        "\n",
        "print(\"Computo 2\")\n",
        "n1c2 = float(input(\"Ingrese la nota del laboratorio 1: \"))\n",
        "n2c2 = float(input(\"Ingrese la nota del laboratorio 2: \"))\n",
        "pc2 = float(input(\"Ingrese la nota del parcial: \"))\n",
        "\n",
        "resultadoc2 = n1c2*0.30 + n2c2*0.30 + pc2*0.40\n",
        "print(\"Su nota es de: \", resultadoc2)\n",
        "\n",
        "print(\"\")\n",
        "\n",
        "print(\"Computo 3\")\n",
        "n1c3 = float(input(\"Ingrese la nota del laboratorio 1: \"))\n",
        "n2c3 = float(input(\"Ingrese la nota del laboratorio 2: \"))\n",
        "pc3 = float(input(\"Ingrese la nota del parcial: \"))\n",
        "\n",
        "resultadoc3 = n1c3*0.30 + n2c3*0.30 + pc3*0.40\n",
        "print(\"Su nota es de: \", resultadoc3)\n",
        "\n",
        "print(\"\")\n",
        "\n",
        "print(\"Nota Final\")\n",
        "ciclo =(resultadoc1 + resultadoc2 + resultadoc3)/ 3\n",
        "print(ciclo)"
      ],
      "execution_count": null,
      "outputs": [
        {
          "output_type": "stream",
          "text": [
            "Computo 1:\n",
            "Ingrese la nota del laboratorio 1: 7\n",
            "Ingrese la nota del laboratorio 2: 9\n",
            "Ingrese la nota del parcial: 8\n",
            "Su nota es de:  8.0\n",
            "\n",
            "Computo 2\n",
            "Ingrese la nota del laboratorio 1: 6.63\n",
            "Ingrese la nota del laboratorio 2: 9.50\n",
            "Ingrese la nota del parcial: 9\n",
            "Su nota es de:  8.439\n",
            "\n",
            "Computo 3\n",
            "Ingrese la nota del laboratorio 1: 9\n",
            "Ingrese la nota del laboratorio 2: 10\n",
            "Ingrese la nota del parcial: 9\n",
            "Su nota es de:  9.299999999999999\n",
            "\n",
            "Nota Final\n",
            "8.579666666666666\n"
          ],
          "name": "stdout"
        }
      ]
    },
    {
      "cell_type": "markdown",
      "metadata": {
        "id": "ma2X97ETh35E"
      },
      "source": [
        "# Convertir de Celsius de Fahrenheit usando lambda"
      ]
    },
    {
      "cell_type": "code",
      "metadata": {
        "colab": {
          "base_uri": "https://localhost:8080/"
        },
        "id": "vDmfMCdEh_Ch",
        "outputId": "e94892f0-70d1-488f-e937-1436370cb200"
      },
      "source": [
        "conversion = lambda c: (c*9/5) + 32\n",
        "c = float(input(\"Celsius: \"))\n",
        "print(\"Grados C: \", c, \" a F: \", conversion(c))"
      ],
      "execution_count": null,
      "outputs": [
        {
          "output_type": "stream",
          "text": [
            "Celsius: 68\n",
            "Grados C:  68.0  a F:  154.4\n"
          ],
          "name": "stdout"
        }
      ]
    },
    {
      "cell_type": "markdown",
      "metadata": {
        "id": "09846EbOiIVO"
      },
      "source": [
        "# Calcular la edad de una persona. usando lambda"
      ]
    },
    {
      "cell_type": "code",
      "metadata": {
        "colab": {
          "base_uri": "https://localhost:8080/"
        },
        "id": "b3G1LfpwiOlD",
        "outputId": "abed0af1-a32e-4da9-8c10-0c3f8bfc072a"
      },
      "source": [
        "edad = lambda num1,num2: num1-num2\n",
        "num1 = float(input(\"Introduzca el año actual: \"))\n",
        "num2 = float(input(\"Introduzca su año de nacimiento: \"))\n",
        "print(\"Su edad es: \", edad(num1,num2))"
      ],
      "execution_count": null,
      "outputs": [
        {
          "output_type": "stream",
          "text": [
            "Introduzca el año actual: 2021\n",
            "Introduzca su año de nacimiento: 2000\n",
            "Su edad es:  21.0\n"
          ],
          "name": "stdout"
        }
      ]
    },
    {
      "cell_type": "markdown",
      "metadata": {
        "id": "LWI6b1tqidg1"
      },
      "source": [
        "# Obtener la nota final de ciclo usando lambda y build-in(map, filter, reduce)"
      ]
    },
    {
      "cell_type": "code",
      "metadata": {
        "colab": {
          "base_uri": "https://localhost:8080/"
        },
        "id": "JgsbljpcigPO",
        "outputId": "087c826d-3772-4945-ddd5-98b2abced6ad"
      },
      "source": [
        "print(\"Computo 1\")\n",
        "resultado1 = lambda num1,num2,num3: (num1+num2+num3)/3\n",
        "num1 = float(input(\"Ingrese nota de laboratorio 1: \"))\n",
        "num2 = float(input(\"Ingrese Nota de laboratorio 2: \"))\n",
        "num3 = float(input(\"Ingrese la nota de parcial: \"))\n",
        "print(\"La nota es: \", resultado1(num1,num2,num3))\n",
        "\n",
        "print(\"\")\n",
        "\n",
        "print(\"Computo 2\")\n",
        "resultado2 = lambda num1,num2,num3: (num1+num2+num3)/3\n",
        "num1 = float(input(\"Ingrese nota de laboratorio 1: \"))\n",
        "num2 = float(input(\"Ingrese nota de laboratorio 2: \"))\n",
        "num3 = float(input(\"Ingrese la nota de parcial: \"))\n",
        "print(\"La suma es: \", resultado2(num1,num2,num3))\n",
        "\n",
        "print(\"\")\n",
        "\n",
        "print(\"Computo 3\")\n",
        "resultado3 = lambda num1,num2,num3: (num1+num2+num3)/3\n",
        "num1 = float(input(\"Ingrese nota de laboratorio 1: \"))\n",
        "num2 = float(input(\"Ingrese nota de laboratorio 2: \"))\n",
        "num3 = float(input(\"Ingrese nota de parcial: \"))\n",
        "print(\"La suma es: \", resultado3(num1,num2,num3))\n",
        "\n",
        "print(\"\")\n",
        "\n",
        "print(\"Nota Final\")\n",
        "nf = lambda nf1,nf2,nf3: (nf1+nf2+nf3)/3\n",
        "nf1 = float(input(\"Ingrese la nota del computo 1: \"))\n",
        "nf2 = float(input(\"Ingrese la nota del computo 2: \"))\n",
        "nf3 = float(input(\"Ingrese la nota del computo 3: \"))\n",
        "print(\"La nota final es: \", nf(nf1,nf2,nf3))"
      ],
      "execution_count": null,
      "outputs": [
        {
          "output_type": "stream",
          "text": [
            "Computo 1\n",
            "Ingrese nota de laboratorio 1: 9\n",
            "Ingrese Nota de laboratorio 2: 9\n",
            "Ingrese la nota de parcial: 9\n",
            "La nota es:  9.0\n",
            "\n",
            "Computo 2\n",
            "Ingrese nota de laboratorio 1: 6.66\n",
            "Ingrese nota de laboratorio 2: 8\n",
            "Ingrese la nota de parcial: 9\n",
            "La suma es:  7.886666666666667\n",
            "\n",
            "Computo 3\n",
            "Ingrese nota de laboratorio 1: 4\n",
            "Ingrese nota de laboratorio 2: 9.50\n",
            "Ingrese nota de parcial: 9\n",
            "La suma es:  7.5\n",
            "\n",
            "Nota Final\n",
            "Ingrese la nota del computo 1: 9.0\n",
            "Ingrese la nota del computo 2: 7.88\n",
            "Ingrese la nota del computo 3: 7.5\n",
            "La nota final es:  8.126666666666667\n"
          ],
          "name": "stdout"
        }
      ]
    },
    {
      "cell_type": "markdown",
      "metadata": {
        "id": "1HTUtit6kG5r"
      },
      "source": [
        "# Calcular sobre el sueldo las deducciones por ley ISSS (3%), AFP(6.25%), ISR(Según tabla) e imprima el total deducciones y sueldo neto. "
      ]
    },
    {
      "cell_type": "code",
      "metadata": {
        "colab": {
          "base_uri": "https://localhost:8080/"
        },
        "id": "JYBXeiGokLRj",
        "outputId": "df890328-2545-4625-8d46-42ae1bf4f95d"
      },
      "source": [
        "sueldo = float(input(\"Sueldo: \"))\n",
        "isss = sueldo*0.03\n",
        "afp = sueldo*0.0625\n",
        "sueldoNeto = sueldo - (isss + afp)\n",
        "\n",
        "tablaIsr = [\n",
        "            [0.01,   472.0,   0,   0    ],\n",
        "            [472.01, 895.24,  0.1, 17.67],\n",
        "            [895.25, 2038.10, 0.2, 60   ],\n",
        "            [2038.11, 99999 , 0.3, 288.57]\n",
        "]\n",
        "isr = 0\n",
        "for tramo in tablaIsr:\n",
        "  if sueldoNeto>=tramo[0] and sueldo<=tramo[1]:\n",
        "    isr = (sueldoNeto - tramo[0])*tramo[2] + tramo[3]\n",
        "sueldoNeto -= isr\n",
        "print(sueldo, \"Deducciones: \", (isss + afp + isr), \" Sueldo Neto: \", sueldoNeto)"
      ],
      "execution_count": null,
      "outputs": [
        {
          "output_type": "stream",
          "text": [
            "Sueldo: 300\n",
            "300.0 Deducciones:  27.75  Sueldo Neto:  272.25\n"
          ],
          "name": "stdout"
        }
      ]
    },
    {
      "cell_type": "markdown",
      "metadata": {
        "id": "9aBNVfNvlP7S"
      },
      "source": [
        "# Calcular el valor a pagar según el número de metros consumidos de agua potable"
      ]
    },
    {
      "cell_type": "code",
      "metadata": {
        "colab": {
          "base_uri": "https://localhost:8080/"
        },
        "id": "DoDNfp-Sny5G",
        "outputId": "a603a23b-9d62-4815-aa8e-19c9c64ae2d4"
      },
      "source": [
        "def consumo1():\n",
        "  if metrosCon >=19 and metrosCon <=28 :\n",
        "    con1 = (metrosCon - 18)*0.45\n",
        "    con1 = con1 + 6\n",
        "    return con1\n",
        "\n",
        "  elif metrosCon >=29 :\n",
        "    con1 = (metrosCon - 28)*0.65\n",
        "    con2 = (28 - 18)*0.45\n",
        "    resul = con1 + con2 + 6\n",
        "    return resul\n",
        "\n",
        "\n",
        "print(\">>Calculemos el valor a pagar por los metros consumidos de agua potable<<\")\n",
        "print(\"\")\n",
        "metrosCon = int(input(\"Digita los metros consumidos: \"))\n",
        "\n",
        "if metrosCon <= 0 :\n",
        "  print(\"El valor de los Mts introducidos no es correcto\")\n",
        "\n",
        "elif metrosCon >=1 and metrosCon <=18 :\n",
        "  print(\"El valor a pagar por los \",metrosCon, \"Mts es de: $6 dolares\" )\n",
        "\n",
        "elif metrosCon >=19 and metrosCon <=28 :\n",
        "  print(\"El valor a pagar por los \",metrosCon, \"Mts es de: $\", consumo1(),\"dolares\")\n",
        "\n",
        "elif metrosCon >=29 :\n",
        "  print(\"El valor a pagar por los \",metrosCon, \"Mts es de: $\", consumo1(),\"dolares\")\n"
      ],
      "execution_count": null,
      "outputs": [
        {
          "output_type": "stream",
          "name": "stdout",
          "text": [
            ">>Calculemos el valor a pagar por los metros consumidos de agua potable<<\n",
            "\n",
            "Digita los metros consumidos: 4\n",
            "El valor a pagar por los  4 Mts es de: $6 dolares\n"
          ]
        }
      ]
    },
    {
      "cell_type": "markdown",
      "metadata": {
        "id": "HGfr4pZ9lR1Z"
      },
      "source": [
        "# Desarrolle la tabla de meses acumulados a n meses. Si puede encontrar la formula matemática para evitar ciclos."
      ]
    },
    {
      "cell_type": "code",
      "metadata": {
        "colab": {
          "base_uri": "https://localhost:8080/"
        },
        "id": "br5oEx77X3uf",
        "outputId": "2ee0e2ec-bd32-4dc6-807b-ec2a4b2471c6"
      },
      "source": [
        "M=int(input(\"Ingrese el número de meses: \"))\n",
        "ACM = 0.5* M**2+0.5*M\n",
        "print(\"La acumulación es: \",ACM)   \n"
      ],
      "execution_count": 1,
      "outputs": [
        {
          "output_type": "stream",
          "name": "stdout",
          "text": [
            "Ingrese el número de meses: 3\n",
            "La acumulación es:  6.0\n"
          ]
        }
      ]
    },
    {
      "cell_type": "markdown",
      "metadata": {
        "id": "_wdYJJF3lXw7"
      },
      "source": [
        "# Conversores"
      ]
    },
    {
      "cell_type": "code",
      "metadata": {
        "colab": {
          "base_uri": "https://localhost:8080/"
        },
        "id": "1J4L9en5mcHI",
        "outputId": "14117d96-823c-4581-b624-d327431337c0"
      },
      "source": [
        "valores = [\n",
        "           [],\n",
        "           [0, 1, 0.85, 23.8, 35.11, 7.74, 8.75, 621.61], #monedas\n",
        "           [1.0, 0.1,0.01, 0.001, 0.000001,0.00001, 0.039370, 0.0032808, 0.00109, 0.000000621371], #Longitud\n",
        "           [1,0.1,0.01,0.001,0.0001,0.00001,0.000001,0.000035274,2.2046e-6,0.000000001],  #Masa\n",
        "           [1.0, 0.000977, 0.000000953, 0.000000000931, 0.000000000000909, 0.000000000000000888, 0.000000000000000000867, 0.000000000000000000000847, 0.000000000000000000000001, 0.000000000000000000000000827], #Almacenamiento\n",
        "           [1.0, 0.001, 0.000001, 0.000000016666667, 0.000000000277778, 0.000000000011574, 0.000000000001653, 0.00000000000038052, 0.000000000000032, 0.000000000000003171, 3.171e-16], #Tiempo\n",
        "           [1, 1, 0.000001, 0.001, 0.202884, 0.067628, 0.033814, 0.00416667, 0.000264172], #Volumen\n",
        "           [1, 0.01, 0.000001, 0.0000000001,  0.000000000001, 0.00155, 0.0000107639, 0.00000119599, 0.000000000247105, 0.000000000000386], #Área\n",
        "\n",
        "\n",
        "]\n",
        "etiquetas = [\n",
        "           [],\n",
        "           [\"1. Dolar\", \"2. Euro\", \"3. Lempira\",\"4. Cordobas\", \"5. Quetzalez\", \"6. Colon SV\", \"7. Colon CR\"],\n",
        "           [\"1. Milímetro\", \"2. Centímetro\", \"3. Decimetro\", \"4. Metro\", \"5.Kilómetro\", \"6. Hectometro\", \"7. Pulgada\", \"8. Pie\", \"9. Yarda\", \"10. Milla\"],\n",
        "           [\"1. Miligramo\", \"2. Centigramo\", \"3. Decigramo\", \"4. Gramo\", \"5. Decagramo\", \"6. Hectogramo\", \"8. Kilogramo\", \"9. Onza\", \"10. Libra\", \"11. Toneladas Metricas\" ],\n",
        "           [\"1. Byte\", \"2. Kilobyte\", \"3. Megabyte\", \"4. Gigabyte\", \"5. Terabyte\", \"6. Petabyte\", \"7. Exabyte\", \"8. Zettabyte\", \"9. Yottabyte\", \"10. Yobibyte\"],\n",
        "           [\"1. Microsegundos\", \"2. Milisegundos\", \"3. Segundos\", \"4. Minutos\", \"5. Horas\", \"6. Dias\", \"7. Semanas\", \"8. Meses\", \"9. Años\", \"10. Decadas\", \"11. Siglos\"],\n",
        "           [\"1. Mililitros\", \"2. Centimetros Cubicos\", \"3. Metros Cubicos\", \"4. Litros\", \"5. Cucharaditas\", \"6. Cucharadas\", \"7. Onzas\", \"8. Tazas\", \"9. Galones\", \"10. Pie Cubico\"],\n",
        "           [\"1. Milímetros Cuadrado\", \"2. Centimetros Cuadrados\", \"3. Metros Cuadrados\", \"4. Hectareas\",\"5. Kilometros Cuadrado\", \"6. Pulgadas Cuadradas\", \"7. Pies Cuadrados\", \"8. Yardas Cuadradas\", \"9. Acres\", \"10. MillasCuadradas\"],\n",
        "\n",
        "\n",
        "\n",
        "]\n",
        "def convertir(conversor, de, a, cantidad):\n",
        "  return valores[conversor][a]/valores[conversor][de] * cantidad\n",
        "\n",
        "print(\"*** MENU ***\")\n",
        "print(\"* 1. Monedas\")\n",
        "print(\"* 2. Longitud\")\n",
        "print(\"* 3. Masa\")\n",
        "print(\"* 4. Almacenamiento\")\n",
        "print(\"* 5. Tiempo\")\n",
        "print(\"* 6. Volumen\")\n",
        "print(\"* 7. Área\")\n",
        "conversor = int(input(\"Conversor: \"))\n",
        "\n",
        "print( etiquetas[conversor] )\n",
        "\n",
        "de = int(input(\"DE: \"))\n",
        "a = int(input(\"A: \"))\n",
        "cantidad = float(input(\"Cant: \"))\n",
        "\n",
        "print(\"Respuesta: \", convertir(conversor, de, a, cantidad) )"
      ],
      "execution_count": null,
      "outputs": [
        {
          "output_type": "stream",
          "text": [
            "*** MENU ***\n",
            "* 1. Monedas\n",
            "* 2. Longitud\n",
            "* 3. Masa\n",
            "* 4. Almacenamiento\n",
            "* 5. Tiempo\n",
            "* 6. Volumen\n",
            "* 7. Área\n",
            "Conversor: 5\n",
            "['1. Microsegundos', '2. Milisegundos', '3. Segundos', '4. Minutos', '5. Horas', '6. Dias', '7. Semanas', '8. Meses', '9. Años', '10. Decadas', '11. Siglos']\n",
            "DE: 4\n",
            "A: 9\n",
            "Cant: 44\n",
            "Respuesta:  0.0005022859981712015\n"
          ],
          "name": "stdout"
        }
      ]
    },
    {
      "cell_type": "markdown",
      "metadata": {
        "id": "bJMAcysWodiU"
      },
      "source": [
        "# Realizar un conversor propio, donde espesifique el valor de conversión"
      ]
    },
    {
      "cell_type": "code",
      "metadata": {
        "colab": {
          "base_uri": "https://localhost:8080/"
        },
        "id": "ElL03mvfYA_f",
        "outputId": "e4962d31-f9e0-4cf5-ea95-ee4991613ecb"
      },
      "source": [
        "Cajas = int(input(\"Ingrese la cantidad de Cajas a convertir en unidades: \"))\n",
        "Saco = int(input(\"Ingrese la cantidad de Saco a convertir en libras: \"))\n",
        "Fardo = int(input(\"Ingrese la cantidad de Fardo a convertir en unidades: \"))\n",
        "if Cajas<= 1:\n",
        "  print(\"25 Unidades\")\n",
        "elif Cajas<= 1.5:\n",
        "  print(\"30 Unidades\")\n",
        "  \n",
        "elif Cajas<2:\n",
        "  print(\"50 unidades\")\n",
        "elif Cajas<= 2/5:\n",
        "  print(\"55 Unidades\")\n",
        "elif Cajas<3:\n",
        "  print(\"75 unidades\")\n",
        "elif Cajas<=3.5:\n",
        "  print(\"80 unidades\")\n",
        "else:\n",
        "  print(\"Incorrecto\")\n"
      ],
      "execution_count": 2,
      "outputs": [
        {
          "output_type": "stream",
          "name": "stdout",
          "text": [
            "Ingrese la cantidad de Cajas a convertir en unidades: 2\n",
            "Ingrese la cantidad de Saco a convertir en libras: 5\n",
            "Ingrese la cantidad de Fardo a convertir en unidades: 9\n",
            "75 unidades\n"
          ]
        }
      ]
    }
  ]
}